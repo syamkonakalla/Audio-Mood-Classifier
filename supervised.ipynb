{
 "cells": [
  {
   "cell_type": "code",
   "execution_count": 18,
   "metadata": {},
   "outputs": [
    {
     "name": "stdout",
     "output_type": "stream",
     "text": [
      "Requirement already satisfied: spotipy in c:\\users\\syamk\\anaconda3\\lib\\site-packages (2.24.0)\n",
      "Requirement already satisfied: redis>=3.5.3 in c:\\users\\syamk\\anaconda3\\lib\\site-packages (from spotipy) (5.2.0)\n",
      "Requirement already satisfied: requests>=2.25.0 in c:\\users\\syamk\\anaconda3\\lib\\site-packages (from spotipy) (2.31.0)\n",
      "Requirement already satisfied: urllib3>=1.26.0 in c:\\users\\syamk\\anaconda3\\lib\\site-packages (from spotipy) (1.26.16)\n",
      "Requirement already satisfied: charset-normalizer<4,>=2 in c:\\users\\syamk\\anaconda3\\lib\\site-packages (from requests>=2.25.0->spotipy) (2.0.4)\n",
      "Requirement already satisfied: idna<4,>=2.5 in c:\\users\\syamk\\anaconda3\\lib\\site-packages (from requests>=2.25.0->spotipy) (3.4)\n",
      "Requirement already satisfied: certifi>=2017.4.17 in c:\\users\\syamk\\anaconda3\\lib\\site-packages (from requests>=2.25.0->spotipy) (2023.7.22)\n",
      "Note: you may need to restart the kernel to use updated packages.\n"
     ]
    }
   ],
   "source": [
    "pip install spotipy"
   ]
  },
  {
   "cell_type": "code",
   "execution_count": 19,
   "metadata": {},
   "outputs": [],
   "source": [
    "import spotipy\n",
    "from spotipy.oauth2 import SpotifyClientCredentials\n",
    "import pandas as pd\n",
    "import re\n",
    "from sklearn.model_selection import train_test_split\n",
    "from sklearn.ensemble import RandomForestClassifier\n",
    "from sklearn.preprocessing import StandardScaler\n",
    "from sklearn.metrics import accuracy_score, classification_report\n",
    "import joblib"
   ]
  },
  {
   "cell_type": "code",
   "execution_count": 20,
   "metadata": {},
   "outputs": [],
   "source": [
    "import warnings\n",
    "# Suppress warnings\n",
    "warnings.filterwarnings(\"ignore\")"
   ]
  },
  {
   "cell_type": "code",
   "execution_count": 21,
   "metadata": {},
   "outputs": [],
   "source": [
    "cid = \"3aef8f1d3ef540fc9f677ab240127907\"\n",
    "secret = \"f1988553f1744abeb9370ff3d7e91387\"\n",
    "client_credentials_manager = SpotifyClientCredentials(client_id=cid, client_secret=secret)\n",
    "sp = spotipy.Spotify(client_credentials_manager=client_credentials_manager)"
   ]
  },
  {
   "cell_type": "code",
   "execution_count": 22,
   "metadata": {},
   "outputs": [],
   "source": [
    "playlists = {\n",
    "    \"Happy\": \"https://open.spotify.com/playlist/37i9dQZF1DXdPec7aLTmlC\",\n",
    "    \"Sad\": \"https://open.spotify.com/playlist/37i9dQZF1DWVV27DiNWxkR\",\n",
    "    \"Energetic\": \"https://open.spotify.com/playlist/37i9dQZF1DWVY4eLfA3XFQ\",\n",
    "    \"Relaxing\": \"https://open.spotify.com/playlist/37i9dQZF1DX4sWSpwq3LiO\"\n",
    "}"
   ]
  },
  {
   "cell_type": "code",
   "execution_count": 23,
   "metadata": {},
   "outputs": [],
   "source": [
    "data = {\n",
    "    \"track_uri\": [], \"track_name\": [], \"artist_uri\": [], \"artist_info\": [],\n",
    "    \"artist_name\": [], \"artist_pop\": [], \"artist_genres\": [], \"album\": [],\n",
    "    \"track_pop\": [], \"mood\": []\n",
    "}\n",
    "track_features = {\n",
    "    \"danceability\": [], \"energy\": [], \"key\": [], \"loudness\": [], \"mode\": [],\n",
    "    \"speechiness\": [], \"acousticness\": [], \"instrumentalness\": [], \"liveness\": [],\n",
    "    \"valence\": [], \"tempo\": [], \"id\": [], \"uri\": [], \"track_href\": [],\n",
    "    \"analysis_url\": [], \"duration_ms\": [], \"time_signature\": []\n",
    "}"
   ]
  },
  {
   "cell_type": "code",
   "execution_count": 24,
   "metadata": {},
   "outputs": [],
   "source": [
    "def extract_playlist_data(playlist_link, mood_label):\n",
    "    playlist_URI = playlist_link.split(\"/\")[-1].split(\"?\")[0]\n",
    "    for track in sp.playlist_tracks(playlist_URI)[\"items\"]:\n",
    "        # URI\n",
    "        track_uri = track[\"track\"][\"uri\"]\n",
    "        data[\"track_uri\"].append(track_uri)\n",
    "        data[\"mood\"].append(mood_label)\n",
    "\n",
    "        # Track info\n",
    "        track_name = track[\"track\"][\"name\"]\n",
    "        data[\"track_name\"].append(track_name)\n",
    "\n",
    "        # Artist info\n",
    "        artist_uri = track[\"track\"][\"artists\"][0][\"uri\"]\n",
    "        data[\"artist_uri\"].append(artist_uri)\n",
    "        artist_info = sp.artist(artist_uri)\n",
    "        data[\"artist_info\"].append(artist_info)\n",
    "\n",
    "        artist_name = track[\"track\"][\"artists\"][0][\"name\"]\n",
    "        data[\"artist_name\"].append(artist_name)\n",
    "        data[\"artist_pop\"].append(artist_info[\"popularity\"])\n",
    "        data[\"artist_genres\"].append(artist_info[\"genres\"])\n",
    "\n",
    "        # Album and track popularity\n",
    "        album = track[\"track\"][\"album\"][\"name\"]\n",
    "        data[\"album\"].append(album)\n",
    "        data[\"track_pop\"].append(track[\"track\"][\"popularity\"])\n",
    "\n",
    "        # Audio features\n",
    "        features = sp.audio_features(track_uri)[0]\n",
    "        if features:\n",
    "            for key in track_features.keys():\n",
    "                track_features[key].append(features[key])"
   ]
  },
  {
   "cell_type": "code",
   "execution_count": 25,
   "metadata": {},
   "outputs": [],
   "source": [
    "for mood, link in playlists.items():\n",
    "    extract_playlist_data(link, mood)"
   ]
  },
  {
   "cell_type": "code",
   "execution_count": 26,
   "metadata": {},
   "outputs": [],
   "source": [
    "df_track_data = pd.DataFrame.from_dict(data)\n",
    "df_track_features = pd.DataFrame.from_dict(track_features)\n",
    "df_merged = pd.merge(df_track_data, df_track_features, how=\"inner\", left_on=\"track_uri\", right_on=\"uri\")"
   ]
  },
  {
   "cell_type": "code",
   "execution_count": 27,
   "metadata": {},
   "outputs": [],
   "source": [
    "df_merged[\"track_uri\"] = df_merged[\"track_uri\"].apply(lambda x: re.findall(r\"\\w+$\", x)[0])\n",
    "df_merged[\"artist_uri\"] = df_merged[\"artist_uri\"].apply(lambda x: re.findall(r\"\\w+$\", x)[0])\n",
    "df_merged[\"uri\"] = df_merged[\"uri\"].apply(lambda x: re.findall(r\"\\w+$\", x)[0])"
   ]
  },
  {
   "cell_type": "code",
   "execution_count": 28,
   "metadata": {},
   "outputs": [],
   "source": [
    "y = df_merged['mood']\n",
    "features = [\n",
    "    'danceability', 'energy', 'key', 'loudness', 'mode', 'speechiness',\n",
    "    'acousticness', 'instrumentalness', 'liveness', 'valence', 'tempo', 'duration_ms', 'time_signature'\n",
    "]\n",
    "X = df_merged[features]"
   ]
  },
  {
   "cell_type": "code",
   "execution_count": 29,
   "metadata": {},
   "outputs": [],
   "source": [
    "X_train, X_test, y_train, y_test = train_test_split(X, y, test_size=0.2, random_state=42)"
   ]
  },
  {
   "cell_type": "code",
   "execution_count": 30,
   "metadata": {},
   "outputs": [],
   "source": [
    "scaler = StandardScaler()\n",
    "X_train_scaled = scaler.fit_transform(X_train)\n",
    "X_test_scaled = scaler.transform(X_test)"
   ]
  },
  {
   "cell_type": "code",
   "execution_count": 31,
   "metadata": {},
   "outputs": [
    {
     "data": {
      "text/html": [
       "<style>#sk-container-id-1 {color: black;}#sk-container-id-1 pre{padding: 0;}#sk-container-id-1 div.sk-toggleable {background-color: white;}#sk-container-id-1 label.sk-toggleable__label {cursor: pointer;display: block;width: 100%;margin-bottom: 0;padding: 0.3em;box-sizing: border-box;text-align: center;}#sk-container-id-1 label.sk-toggleable__label-arrow:before {content: \"▸\";float: left;margin-right: 0.25em;color: #696969;}#sk-container-id-1 label.sk-toggleable__label-arrow:hover:before {color: black;}#sk-container-id-1 div.sk-estimator:hover label.sk-toggleable__label-arrow:before {color: black;}#sk-container-id-1 div.sk-toggleable__content {max-height: 0;max-width: 0;overflow: hidden;text-align: left;background-color: #f0f8ff;}#sk-container-id-1 div.sk-toggleable__content pre {margin: 0.2em;color: black;border-radius: 0.25em;background-color: #f0f8ff;}#sk-container-id-1 input.sk-toggleable__control:checked~div.sk-toggleable__content {max-height: 200px;max-width: 100%;overflow: auto;}#sk-container-id-1 input.sk-toggleable__control:checked~label.sk-toggleable__label-arrow:before {content: \"▾\";}#sk-container-id-1 div.sk-estimator input.sk-toggleable__control:checked~label.sk-toggleable__label {background-color: #d4ebff;}#sk-container-id-1 div.sk-label input.sk-toggleable__control:checked~label.sk-toggleable__label {background-color: #d4ebff;}#sk-container-id-1 input.sk-hidden--visually {border: 0;clip: rect(1px 1px 1px 1px);clip: rect(1px, 1px, 1px, 1px);height: 1px;margin: -1px;overflow: hidden;padding: 0;position: absolute;width: 1px;}#sk-container-id-1 div.sk-estimator {font-family: monospace;background-color: #f0f8ff;border: 1px dotted black;border-radius: 0.25em;box-sizing: border-box;margin-bottom: 0.5em;}#sk-container-id-1 div.sk-estimator:hover {background-color: #d4ebff;}#sk-container-id-1 div.sk-parallel-item::after {content: \"\";width: 100%;border-bottom: 1px solid gray;flex-grow: 1;}#sk-container-id-1 div.sk-label:hover label.sk-toggleable__label {background-color: #d4ebff;}#sk-container-id-1 div.sk-serial::before {content: \"\";position: absolute;border-left: 1px solid gray;box-sizing: border-box;top: 0;bottom: 0;left: 50%;z-index: 0;}#sk-container-id-1 div.sk-serial {display: flex;flex-direction: column;align-items: center;background-color: white;padding-right: 0.2em;padding-left: 0.2em;position: relative;}#sk-container-id-1 div.sk-item {position: relative;z-index: 1;}#sk-container-id-1 div.sk-parallel {display: flex;align-items: stretch;justify-content: center;background-color: white;position: relative;}#sk-container-id-1 div.sk-item::before, #sk-container-id-1 div.sk-parallel-item::before {content: \"\";position: absolute;border-left: 1px solid gray;box-sizing: border-box;top: 0;bottom: 0;left: 50%;z-index: -1;}#sk-container-id-1 div.sk-parallel-item {display: flex;flex-direction: column;z-index: 1;position: relative;background-color: white;}#sk-container-id-1 div.sk-parallel-item:first-child::after {align-self: flex-end;width: 50%;}#sk-container-id-1 div.sk-parallel-item:last-child::after {align-self: flex-start;width: 50%;}#sk-container-id-1 div.sk-parallel-item:only-child::after {width: 0;}#sk-container-id-1 div.sk-dashed-wrapped {border: 1px dashed gray;margin: 0 0.4em 0.5em 0.4em;box-sizing: border-box;padding-bottom: 0.4em;background-color: white;}#sk-container-id-1 div.sk-label label {font-family: monospace;font-weight: bold;display: inline-block;line-height: 1.2em;}#sk-container-id-1 div.sk-label-container {text-align: center;}#sk-container-id-1 div.sk-container {/* jupyter's `normalize.less` sets `[hidden] { display: none; }` but bootstrap.min.css set `[hidden] { display: none !important; }` so we also need the `!important` here to be able to override the default hidden behavior on the sphinx rendered scikit-learn.org. See: https://github.com/scikit-learn/scikit-learn/issues/21755 */display: inline-block !important;position: relative;}#sk-container-id-1 div.sk-text-repr-fallback {display: none;}</style><div id=\"sk-container-id-1\" class=\"sk-top-container\"><div class=\"sk-text-repr-fallback\"><pre>RandomForestClassifier(random_state=42)</pre><b>In a Jupyter environment, please rerun this cell to show the HTML representation or trust the notebook. <br />On GitHub, the HTML representation is unable to render, please try loading this page with nbviewer.org.</b></div><div class=\"sk-container\" hidden><div class=\"sk-item\"><div class=\"sk-estimator sk-toggleable\"><input class=\"sk-toggleable__control sk-hidden--visually\" id=\"sk-estimator-id-1\" type=\"checkbox\" checked><label for=\"sk-estimator-id-1\" class=\"sk-toggleable__label sk-toggleable__label-arrow\">RandomForestClassifier</label><div class=\"sk-toggleable__content\"><pre>RandomForestClassifier(random_state=42)</pre></div></div></div></div></div>"
      ],
      "text/plain": [
       "RandomForestClassifier(random_state=42)"
      ]
     },
     "execution_count": 31,
     "metadata": {},
     "output_type": "execute_result"
    }
   ],
   "source": [
    "model = RandomForestClassifier(random_state=42)\n",
    "model.fit(X_train_scaled, y_train)"
   ]
  },
  {
   "cell_type": "code",
   "execution_count": 32,
   "metadata": {},
   "outputs": [
    {
     "name": "stdout",
     "output_type": "stream",
     "text": [
      "Accuracy: 0.9714285714285714\n",
      "              precision    recall  f1-score   support\n",
      "\n",
      "   Energetic       1.00      1.00      1.00        21\n",
      "       Happy       0.92      1.00      0.96        24\n",
      "    Relaxing       1.00      1.00      1.00        17\n",
      "         Sad       1.00      0.75      0.86         8\n",
      "\n",
      "    accuracy                           0.97        70\n",
      "   macro avg       0.98      0.94      0.95        70\n",
      "weighted avg       0.97      0.97      0.97        70\n",
      "\n"
     ]
    }
   ],
   "source": [
    "y_pred = model.predict(X_test_scaled)\n",
    "print(\"Accuracy:\", accuracy_score(y_test, y_pred))\n",
    "print(classification_report(y_test, y_pred))"
   ]
  },
  {
   "cell_type": "code",
   "execution_count": 33,
   "metadata": {},
   "outputs": [
    {
     "data": {
      "text/plain": [
       "['scaler.pkl']"
      ]
     },
     "execution_count": 33,
     "metadata": {},
     "output_type": "execute_result"
    }
   ],
   "source": [
    "joblib.dump(model, 'trained_mood_model.pkl')\n",
    "joblib.dump(scaler, 'scaler.pkl')"
   ]
  },
  {
   "cell_type": "code",
   "execution_count": 34,
   "metadata": {},
   "outputs": [
    {
     "name": "stdout",
     "output_type": "stream",
     "text": [
      "The predicted mood for the track is: Sad\n"
     ]
    }
   ],
   "source": [
    "# %%\n",
    "import spotipy\n",
    "from spotipy.oauth2 import SpotifyClientCredentials\n",
    "import pandas as pd\n",
    "import joblib\n",
    "from sklearn.preprocessing import StandardScaler\n",
    "\n",
    "# Load the trained model and scaler\n",
    "model = joblib.load('trained_mood_model.pkl')\n",
    "scaler = joblib.load('scaler.pkl')\n",
    "\n",
    "# Spotify API credentials\n",
    "cid = \"3aef8f1d3ef540fc9f677ab240127907\"\n",
    "secret = \"f1988553f1744abeb9370ff3d7e91387\"\n",
    "client_credentials_manager = SpotifyClientCredentials(client_id=cid, client_secret=secret)\n",
    "sp = spotipy.Spotify(client_credentials_manager=client_credentials_manager)\n",
    "\n",
    "# %%\n",
    "def get_audio_features(track_uri):\n",
    "    \"\"\"Retrieve audio features for a single track using its URI.\"\"\"\n",
    "    features = sp.audio_features(track_uri)[0]\n",
    "    if features:\n",
    "        feature_values = [\n",
    "            features['danceability'], features['energy'], features['key'],\n",
    "            features['loudness'], features['mode'], features['speechiness'],\n",
    "            features['acousticness'], features['instrumentalness'],\n",
    "            features['liveness'], features['valence'], features['tempo'],\n",
    "            features['duration_ms'], features['time_signature']\n",
    "        ]\n",
    "        return feature_values\n",
    "    else:\n",
    "        print(\"No features available for this track.\")\n",
    "        return None\n",
    "\n",
    "# %%\n",
    "def predict_mood(track_uri):\n",
    "    \"\"\"Predict the mood of a song given its URI.\"\"\"\n",
    "    # Get audio features\n",
    "    features = get_audio_features(track_uri)\n",
    "    if features:\n",
    "        # Scale the features\n",
    "        features_scaled = scaler.transform([features])\n",
    "        # Predict mood\n",
    "        predicted_mood = model.predict(features_scaled)[0]\n",
    "        return predicted_mood\n",
    "    else:\n",
    "        return \"Could not retrieve features for prediction.\"\n",
    "\n",
    "track_uri = \"spotify:track:5BYyEjrCDVqtppYcxsXqZs\"  \n",
    "mood = predict_mood(track_uri)\n",
    "print(f\"The predicted mood for the track is: {mood}\")\n"
   ]
  },
  {
   "cell_type": "code",
   "execution_count": null,
   "metadata": {},
   "outputs": [],
   "source": []
  },
  {
   "cell_type": "code",
   "execution_count": null,
   "metadata": {},
   "outputs": [],
   "source": []
  },
  {
   "cell_type": "code",
   "execution_count": null,
   "metadata": {},
   "outputs": [],
   "source": []
  }
 ],
 "metadata": {
  "kernelspec": {
   "display_name": "Python 3 (ipykernel)",
   "language": "python",
   "name": "python3"
  },
  "language_info": {
   "codemirror_mode": {
    "name": "ipython",
    "version": 3
   },
   "file_extension": ".py",
   "mimetype": "text/x-python",
   "name": "python",
   "nbconvert_exporter": "python",
   "pygments_lexer": "ipython3",
   "version": "3.11.5"
  }
 },
 "nbformat": 4,
 "nbformat_minor": 2
}
